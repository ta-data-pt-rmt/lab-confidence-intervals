{
 "cells": [
  {
   "cell_type": "markdown",
   "metadata": {},
   "source": [
    "# Confidence Intervals"
   ]
  },
  {
   "cell_type": "code",
   "execution_count": 7,
   "metadata": {},
   "outputs": [],
   "source": [
    "# Libraries\n",
    "import pandas as pd\n",
    "import numpy as np\n",
    "import scipy.stats as st\n",
    "import math"
   ]
  },
  {
   "cell_type": "markdown",
   "metadata": {},
   "source": [
    "## Challenge 1\n",
    "We want to estimate the average size of the men of a country with a confidence level of 80%. Assuming that the standard deviation of the sizes in the population is 4, get the confidence interval with a sample of men selected randomly, whose heights are:\n",
    "\n",
    "````\n",
    "heights = [167, 167, 168, 168, 168, 169, 171, 172, 173, 175, 175, 175, 177, 182, 195]\n",
    "````\n",
    "\n",
    "**Hint**: function `stats.norm.interval` from `scipy` can help you get through this exercise. "
   ]
  },
  {
   "cell_type": "code",
   "execution_count": 4,
   "metadata": {},
   "outputs": [],
   "source": [
    "# your code here\n",
    "heights = [167, 167, 168, 168, 168, 169, 171, 172, 173, 175, 175, 175, 177, 182, 195]\n",
    "n = len(heights)\n",
    "std = 4\n",
    "mean = np.mean(heights)"
   ]
  },
  {
   "cell_type": "code",
   "execution_count": 5,
   "metadata": {},
   "outputs": [
    {
     "data": {
      "text/plain": [
       "(172.14308590115726, 174.79024743217607)"
      ]
     },
     "execution_count": 5,
     "metadata": {},
     "output_type": "execute_result"
    }
   ],
   "source": [
    "st.norm.interval(0.80,loc=mean,scale=std/np.sqrt(n))"
   ]
  },
  {
   "cell_type": "markdown",
   "metadata": {},
   "source": [
    "## Challenge 2 \n",
    "In a sample of 105 shops selected randomly from an area, we note that 27 of them have had losses in this month. Get an interval for the proportion of businesses in the area with losses to a confidence level of 80% and a confidence level of 90%.\n",
    "\n",
    "**Hint**: function `stats.norm.interval` from `scipy` can help you get through this exercise. "
   ]
  },
  {
   "cell_type": "code",
   "execution_count": 9,
   "metadata": {},
   "outputs": [
    {
     "name": "stdout",
     "output_type": "stream",
     "text": [
      "Confidence Interval (80.0%): (0.20248138545542083, 0.3118043288302934)\n",
      "Confidence Interval (90.0%): (0.18698561776452813, 0.3273000965211861)\n"
     ]
    }
   ],
   "source": [
    "# your code here\n",
    "\n",
    "sample_size = 105\n",
    "businesses_with_losses = 27\n",
    "confidence_levels = [0.80, 0.90]\n",
    "sample_proportion = businesses_with_losses / sample_size\n",
    "\n",
    "standard_error = math.sqrt((sample_proportion * (1 - sample_proportion)) / sample_size)\n",
    "z_scores = [st.norm.ppf(1 - (1 - confidence_level) / 2) for confidence_level in confidence_levels]\n",
    "\n",
    "confidence_intervals = [(sample_proportion - z * standard_error, sample_proportion + z * standard_error) for z in z_scores]\n",
    "\n",
    "for i, confidence_level in enumerate(confidence_levels):\n",
    "    print(f\"Confidence Interval ({confidence_level * 100}%): {confidence_intervals[i]}\")"
   ]
  },
  {
   "cell_type": "markdown",
   "metadata": {},
   "source": [
    "## Bonus Challenge\n",
    "The error level or sampling error for the first challenge is given by the following expression:\n",
    "$$Error = z_{\\frac{\\alpha}{2}}\\frac{\\sigma}{\\sqrt n}$$\n",
    "Where z represents the value for N(0,1)\n",
    "\n",
    "\n",
    "Suppose that with the previous data of challenge 1, and with a confidence level of\n",
    "99% (that is, almost certainly) we want to estimate the average population size, so that the error level committed is not greater than half a centimeter.\n",
    "\n",
    "#### 1.- Determine what size the selected sample of men should be."
   ]
  },
  {
   "cell_type": "code",
   "execution_count": 11,
   "metadata": {},
   "outputs": [
    {
     "name": "stdout",
     "output_type": "stream",
     "text": [
      "The required sample size is approximately: 425\n"
     ]
    }
   ],
   "source": [
    "# your code here\n",
    "\n",
    "\n",
    "confidence_level = 0.99\n",
    "alpha = 1 - confidence_level\n",
    "z_alpha_over_2 = st.norm.ppf(1 - alpha/2)  # Z-score for the given confidence level\n",
    "population_standard_deviation = 4\n",
    "desired_error = 0.5  # Half-centimeter error\n",
    "\n",
    "required_sample_size = ((z_alpha_over_2 * population_standard_deviation) / desired_error)**2\n",
    "\n",
    "print(f\"The required sample size is approximately: {round(required_sample_size)}\")\n"
   ]
  },
  {
   "cell_type": "markdown",
   "metadata": {},
   "source": [
    "#### 2.- For the second challenge, we have the following error:\n",
    "$$ Error = z_{\\frac{\\alpha}{2}}\\sqrt{\\frac{p\\times q}{n}} $$\n",
    "#### Determine the sample size required to not exceed an error of 1% with a confidence of 80%."
   ]
  },
  {
   "cell_type": "code",
   "execution_count": 14,
   "metadata": {},
   "outputs": [
    {
     "name": "stdout",
     "output_type": "stream",
     "text": [
      "The required sample size is approximately: 3137\n"
     ]
    }
   ],
   "source": [
    "# your code here\n",
    "confidence_level = 0.80\n",
    "alpha = 1 - confidence_level\n",
    "z_alpha_over_2 = st.norm.ppf(1 - alpha/2)  # Z-score for the given confidence level\n",
    "desired_error = 0.01  \n",
    "\n",
    "p = 27/105 #businesses_with_losses / sample_size\n",
    "q = 1-p\n",
    "\n",
    "required_sample_size = ((z_alpha_over_2**2 * p * q) / desired_error**2)\n",
    "\n",
    "print(f\"The required sample size is approximately: {round(required_sample_size)}\")"
   ]
  },
  {
   "cell_type": "markdown",
   "metadata": {},
   "source": [
    "## Bonus Challenge\n",
    "\n",
    "Let's consider the following problem:\n",
    "\n",
    "Build a confidence interval of 94% for the real difference between the durations of two brands of spotlights, if a sample of 40 spotlights taken randomly from the first mark gave an average duration of 418 hours, and a sample of 50 bulbs of another brand gave a duration average of 402 hours. The standard deviations of the two\n",
    "populations are 26 hours and 22 hours, respectively.\n",
    "\n",
    "Sometimes, we will be interested in the difference of two different groups of random variables. We can also build a confidence interval for that! We have some different cases regarding the variance but for this specific case (the variance are different and known), we have that:\n",
    "\n",
    "$$\\overline{X} - \\overline{Y}  \\sim N(\\mu_{X} - \\mu_{Y} , \\sqrt{\\frac{\\sigma_{X}^2}{n_X}+\\frac{\\sigma_{Y}^2}{n_Y}})$$\n",
    "\n",
    "Solve the problem with this information."
   ]
  },
  {
   "cell_type": "code",
   "execution_count": 17,
   "metadata": {},
   "outputs": [
    {
     "name": "stdout",
     "output_type": "stream",
     "text": [
      "The 94% confidence interval for the difference in durations is: (6.303419026585921, 25.69658097341408)\n"
     ]
    }
   ],
   "source": [
    "# your code here\n",
    "\n",
    "n_X = 40\n",
    "n_Y = 50\n",
    "mean_X = 418\n",
    "mean_Y = 402\n",
    "std_dev_X = 26\n",
    "std_dev_Y = 22\n",
    "confidence_level = 0.94\n",
    "\n",
    "\n",
    "z_alpha_over_2 = st.norm.ppf(1 - (1 - confidence_level) / 2)\n",
    "interval_width = z_alpha_over_2 * ((std_dev_X**2 / n_X) + (std_dev_Y**2 / n_Y))**0.5\n",
    "\n",
    "lower_limit = (mean_X - mean_Y) - interval_width\n",
    "upper_limit = (mean_X - mean_Y) + interval_width\n",
    "\n",
    "\n",
    "print(f\"The 94% confidence interval for the difference in durations is: ({lower_limit}, {upper_limit})\")\n"
   ]
  }
 ],
 "metadata": {
  "kernelspec": {
   "display_name": "Python 3",
   "language": "python",
   "name": "python3"
  },
  "language_info": {
   "codemirror_mode": {
    "name": "ipython",
    "version": 3
   },
   "file_extension": ".py",
   "mimetype": "text/x-python",
   "name": "python",
   "nbconvert_exporter": "python",
   "pygments_lexer": "ipython3",
   "version": "3.11.4"
  }
 },
 "nbformat": 4,
 "nbformat_minor": 2
}
