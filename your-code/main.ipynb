{
  "cells": [
    {
      "cell_type": "markdown",
      "metadata": {
        "id": "y-q9G6LMQEJN"
      },
      "source": [
        "# Confidence Intervals"
      ]
    },
    {
      "cell_type": "code",
      "execution_count": 1,
      "metadata": {
        "id": "EXzUZ-4pQEJP"
      },
      "outputs": [],
      "source": [
        "# Libraries\n",
        "import pandas as pd\n",
        "import numpy as np\n",
        "import scipy.stats as st"
      ]
    },
    {
      "cell_type": "markdown",
      "metadata": {
        "id": "aj_XJBvcQEJQ"
      },
      "source": [
        "## Challenge 1\n",
        "We want to estimate the average size of the men of a country with a confidence level of 80%. Assuming that the standard deviation of the sizes in the population is 4, get the confidence interval with a sample of men selected randomly, whose heights are:\n",
        "\n",
        "````\n",
        "heights = [167, 167, 168, 168, 168, 169, 171, 172, 173, 175, 175, 175, 177, 182, 195]\n",
        "````\n",
        "\n",
        "**Hint**: function `stats.norm.interval` from `scipy` can help you get through this exercise."
      ]
    },
    {
      "cell_type": "code",
      "source": [
        "heights = [167, 167, 168, 168, 168, 169, 171, 172, 173, 175, 175, 175, 177, 182, 195]"
      ],
      "metadata": {
        "id": "DT4LdaQ8RJRI"
      },
      "execution_count": 2,
      "outputs": []
    },
    {
      "cell_type": "code",
      "execution_count": 10,
      "metadata": {
        "id": "W0O8ZkyNQEJQ"
      },
      "outputs": [],
      "source": [
        "# your code here\n",
        "import statistics\n",
        "import scipy.stats as st\n",
        "\n",
        "mean = statistics.mean(heights)\n",
        "std = 4\n",
        "n = len(heights)"
      ]
    },
    {
      "cell_type": "code",
      "source": [
        "st.norm.interval(0.80,loc=mean,scale=std/np.sqrt(n))"
      ],
      "metadata": {
        "colab": {
          "base_uri": "https://localhost:8080/"
        },
        "id": "e4d1UnMgSIlj",
        "outputId": "5d1ace7a-2f32-4adf-ae22-78b281c085e6"
      },
      "execution_count": 11,
      "outputs": [
        {
          "output_type": "execute_result",
          "data": {
            "text/plain": [
              "(172.14308590115726, 174.79024743217607)"
            ]
          },
          "metadata": {},
          "execution_count": 11
        }
      ]
    },
    {
      "cell_type": "markdown",
      "metadata": {
        "id": "8KgGLnIDQEJR"
      },
      "source": [
        "## Challenge 2\n",
        "In a sample of 105 shops selected randomly from an area, we note that 27 of them have had losses in this month. Get an interval for the proportion of businesses in the area with losses to a confidence level of 80% and a confidence level of 90%.\n",
        "\n",
        "**Hint**: function `stats.norm.interval` from `scipy` can help you get through this exercise."
      ]
    },
    {
      "cell_type": "code",
      "execution_count": 12,
      "metadata": {
        "colab": {
          "base_uri": "https://localhost:8080/"
        },
        "id": "8lpvfcbGQEJR",
        "outputId": "d409ac0c-e189-4904-b88e-fd025e7cdc1b"
      },
      "outputs": [
        {
          "output_type": "stream",
          "name": "stdout",
          "text": [
            "80.0% Confidence Interval: (0.20248138545542083, 0.3118043288302934)\n"
          ]
        }
      ],
      "source": [
        "import numpy as np\n",
        "from scipy.stats import norm\n",
        "\n",
        "total_shops = 105\n",
        "shops_with_losses = 27\n",
        "confidence_level = 0.80\n",
        "\n",
        "sample_prop = shops_with_losses / total_shops\n",
        "\n",
        "standard_error = np.sqrt((sample_prop * (1 - sample_prop)) / total_shops)\n",
        "\n",
        "z_score = norm.ppf((1 + confidence_level) / 2)\n",
        "\n",
        "margin_of_error = z_score * standard_error\n",
        "\n",
        "confidence_interval = (sample_prop - margin_of_error, sample_prop + margin_of_error)\n",
        "print(f\"{confidence_level * 100}% Confidence Interval: {confidence_interval}\")\n"
      ]
    },
    {
      "cell_type": "code",
      "source": [
        "import numpy as np\n",
        "from scipy.stats import norm\n",
        "\n",
        "total_shops = 105\n",
        "shops_with_losses = 27\n",
        "confidence_level = 0.90\n",
        "\n",
        "sample_prop = shops_with_losses / total_shops\n",
        "\n",
        "standard_error = np.sqrt((sample_prop * (1 - sample_prop)) / total_shops)\n",
        "\n",
        "z_score = norm.ppf((1 + confidence_level) / 2)\n",
        "\n",
        "margin_of_error = z_score * standard_error\n",
        "\n",
        "confidence_interval = (sample_prop - margin_of_error, sample_prop + margin_of_error)\n",
        "print(f\"{confidence_level * 100}% Confidence Interval: {confidence_interval}\")\n"
      ],
      "metadata": {
        "colab": {
          "base_uri": "https://localhost:8080/"
        },
        "id": "YjLTezJaT3Dp",
        "outputId": "4e976741-ffe0-4c86-d72e-3bf62dd9dc6c"
      },
      "execution_count": 13,
      "outputs": [
        {
          "output_type": "stream",
          "name": "stdout",
          "text": [
            "90.0% Confidence Interval: (0.18698561776452813, 0.3273000965211861)\n"
          ]
        }
      ]
    },
    {
      "cell_type": "markdown",
      "metadata": {
        "id": "DATUaS_MQEJR"
      },
      "source": [
        "## Bonus Challenge\n",
        "The error level or sampling error for the first challenge is given by the following expression:\n",
        "$$Error = z_{\\frac{\\alpha}{2}}\\frac{\\sigma}{\\sqrt n}$$\n",
        "Where z represents the value for N(0,1)\n",
        "\n",
        "\n",
        "Suppose that with the previous data of challenge 1, and with a confidence level of\n",
        "99% (that is, almost certainly) we want to estimate the average population size, so that the error level committed is not greater than half a centimeter.\n",
        "\n",
        "#### 1.- Determine what size the selected sample of men should be."
      ]
    },
    {
      "cell_type": "code",
      "execution_count": null,
      "metadata": {
        "id": "NdCeMbFJQEJR"
      },
      "outputs": [],
      "source": [
        "# your code here"
      ]
    },
    {
      "cell_type": "markdown",
      "metadata": {
        "id": "wTXATqMxQEJS"
      },
      "source": [
        "#### 2.- For the second challenge, we have the following error:\n",
        "$$ Error = z_{\\frac{\\alpha}{2}}\\sqrt{\\frac{p\\times q}{n}} $$\n",
        "#### Determine the sample size required to not exceed an error of 1% with a confidence of 80%."
      ]
    },
    {
      "cell_type": "code",
      "execution_count": null,
      "metadata": {
        "id": "52N2lk-cQEJS"
      },
      "outputs": [],
      "source": [
        "# your code here"
      ]
    },
    {
      "cell_type": "markdown",
      "metadata": {
        "id": "9yogLUi2QEJS"
      },
      "source": [
        "## Bonus Challenge\n",
        "\n",
        "Let's consider the following problem:\n",
        "\n",
        "Build a confidence interval of 94% for the real difference between the durations of two brands of spotlights, if a sample of 40 spotlights taken randomly from the first mark gave an average duration of 418 hours, and a sample of 50 bulbs of another brand gave a duration average of 402 hours. The standard deviations of the two\n",
        "populations are 26 hours and 22 hours, respectively.\n",
        "\n",
        "Sometimes, we will be interested in the difference of two different groups of random variables. We can also build a confidence interval for that! We have some different cases regarding the variance but for this specific case (the variance are different and known), we have that:\n",
        "\n",
        "$$\\overline{X} - \\overline{Y}  \\sim N(\\mu_{X} - \\mu_{Y} , \\sqrt{\\frac{\\sigma_{X}^2}{n_X}+\\frac{\\sigma_{Y}^2}{n_Y}})$$\n",
        "\n",
        "Solve the problem with this information."
      ]
    },
    {
      "cell_type": "code",
      "execution_count": null,
      "metadata": {
        "id": "sV3TxydAQEJS"
      },
      "outputs": [],
      "source": [
        "# your code here"
      ]
    }
  ],
  "metadata": {
    "kernelspec": {
      "display_name": "Python 3",
      "language": "python",
      "name": "python3"
    },
    "language_info": {
      "codemirror_mode": {
        "name": "ipython",
        "version": 3
      },
      "file_extension": ".py",
      "mimetype": "text/x-python",
      "name": "python",
      "nbconvert_exporter": "python",
      "pygments_lexer": "ipython3",
      "version": "3.7.3"
    },
    "colab": {
      "provenance": []
    }
  },
  "nbformat": 4,
  "nbformat_minor": 0
}