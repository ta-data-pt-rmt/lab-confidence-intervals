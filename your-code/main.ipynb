{
 "cells": [
  {
   "cell_type": "markdown",
   "metadata": {},
   "source": [
    "# Confidence Intervals"
   ]
  },
  {
   "cell_type": "code",
   "execution_count": null,
   "metadata": {},
   "outputs": [],
   "source": [
    "import pandas as pd \n",
    "import numpy as np \n",
    "from scipy import stats\n",
    "import scipy.stats as stats"
   ]
  },
  {
   "cell_type": "markdown",
   "metadata": {},
   "source": [
    "## Challenge 1\n",
    "We want to estimate the average size of the men of a country with a confidence level of 80%. Assuming that the standard deviation of the sizes in the population is 4, get the confidence interval with a sample of men selected randomly, whose heights are:\n",
    "\n",
    "````\n",
    "heights = [167, 167, 168, 168, 168, 169, 171, 172, 173, 175, 175, 175, 177, 182, 195]\n",
    "````\n",
    "\n",
    "**Hint**: function `stats.norm.interval` from `scipy` can help you get through this exercise. "
   ]
  },
  {
   "cell_type": "code",
   "execution_count": null,
   "metadata": {},
   "outputs": [],
   "source": [
    "heights = [167, 167, 168, 168, 168, 169, 171, 172, 173, 175, 175, 175, 177, 182, 195]\n",
    "\n",
    "sample_mean = np.mean(heights) #sample mean\n",
    "sample_std = np.std(heights, ddof = 1) #sample std \n",
    "population_std = 4 #population std\n",
    "\n",
    "confidence_level = 0.80 #confidence level\n",
    "\n",
    "#calculate confidence interval with the hint\n",
    "\n",
    "confidence_interval = stats.norm.interval(confidence_level, loc = sample_mean, scale = sample_std / np.sqrt(len(heights)))\n",
    "\n",
    "print(\"Sample Mean:\" , sample_mean)\n",
    "print(\"Sample STD:\", sample_std)\n",
    "print(\"Confidence Interval:\", confidence_interval)"
   ]
  },
  {
   "cell_type": "markdown",
   "metadata": {},
   "source": [
    "## Challenge 2 \n",
    "In a sample of 105 shops selected randomly from an area, we note that 27 of them have had losses in this month. Get an interval for the proportion of businesses in the area with losses to a confidence level of 80% and a confidence level of 90%.\n",
    "\n",
    "**Hint**: function `stats.norm.interval` from `scipy` can help you get through this exercise. "
   ]
  },
  {
   "cell_type": "code",
   "execution_count": null,
   "metadata": {},
   "outputs": [],
   "source": [
    "#data \n",
    "\n",
    "total_shops = 105 \n",
    "shops_at_loss = 27 \n",
    "\n",
    "# confidence levels\n",
    "\n",
    "confidence_level_80 = 0.80 \n",
    "confidence_level_90 = 0.90\n",
    "\n",
    "#sample proportion\n",
    "\n",
    "sample_proportion = shops_at_loss / total_shops\n",
    "\n",
    "#std error of the proportion \n",
    "\n",
    "standard_error = (sample_proportion * (1 - sample_proportion)) / total_shops\n",
    "\n",
    "#confidence intervals using norm.interval\n",
    "\n",
    "confidence_interval_80 = stats.norm.interval (confidence_level_80, loc = sample_proportion, scale = standard_error**0.5)\n",
    "confidence_interval_90 = stats.norm.interval (confidence_level_90, loc = sample_proportion, scale = standard_error**0.5)\n",
    "\n",
    "#results \n",
    "\n",
    "print(\"Sample Proportion:\", sample_proportion)\n",
    "print(\"Standad Error:\", standard_error**0.5)\n",
    "print(\"Confidence Interval (80%):\", confidence_interval_80)\n",
    "print(\"Confidence Interval (90%):\", confidence_interval_90)"
   ]
  },
  {
   "cell_type": "markdown",
   "metadata": {},
   "source": [
    "## Bonus Challenge\n",
    "The error level or sampling error for the first challenge is given by the following expression:\n",
    "$$Error = z_{\\frac{\\alpha}{2}}\\frac{\\sigma}{\\sqrt n}$$\n",
    "Where z represents the value for N(0,1)\n",
    "\n",
    "\n",
    "Suppose that with the previous data of challenge 1, and with a confidence level of\n",
    "99% (that is, almost certainly) we want to estimate the average population size, so that the error level committed is not greater than half a centimeter.\n",
    "\n",
    "#### 1.- Determine what size the selected sample of men should be."
   ]
  },
  {
   "cell_type": "code",
   "execution_count": null,
   "metadata": {},
   "outputs": [],
   "source": [
    "# data\n",
    "\n",
    "confidence_level = 0.99 \n",
    "population_std = 4 \n",
    "error = 0.5 \n",
    "\n",
    "#critical value for the confidence level \n",
    "\n",
    "critical_value = stats.norm.ppf( 1 - (1 - confidence_level) / 2)\n",
    "\n",
    "#calculate sample \n",
    "\n",
    "sample_size = ((critical_value * population_std) / error) ** 2\n",
    "\n",
    "print(\"Required Sample Size:\", round(sample_size))"
   ]
  },
  {
   "cell_type": "markdown",
   "metadata": {},
   "source": [
    "#### 2.- For the second challenge, we have the following error:\n",
    "$$ Error = z_{\\frac{\\alpha}{2}}\\sqrt{\\frac{p\\times q}{n}} $$\n",
    "#### Determine the sample size required to not exceed an error of 1% with a confidence of 80%."
   ]
  },
  {
   "cell_type": "code",
   "execution_count": null,
   "metadata": {},
   "outputs": [],
   "source": [
    "#data \n",
    "\n",
    "sample_std =  7.356888576280704\n",
    "confidence_level = 0.80 \n",
    "error = 0.01 \n",
    "\n",
    "#critical value for the given std normal dist\n",
    "\n",
    "z_alpha = stats.norm.ppf ( 1- (1- confidence_level)/ 2)\n",
    "\n",
    "#sample size \n",
    "\n",
    "sample_size = np.ceil((z_alpha * sample_std / error)**2)\n",
    "\n",
    "print(\"Sample Size:\", sample_size)"
   ]
  },
  {
   "cell_type": "markdown",
   "metadata": {},
   "source": [
    "## Bonus Challenge\n",
    "\n",
    "Let's consider the following problem:\n",
    "\n",
    "Build a confidence interval of 94% for the real difference between the durations of two brands of spotlights, if a sample of 40 spotlights taken randomly from the first mark gave an average duration of 418 hours, and a sample of 50 bulbs of another brand gave a duration average of 402 hours. The standard deviations of the two\n",
    "populations are 26 hours and 22 hours, respectively.\n",
    "\n",
    "Sometimes, we will be interested in the difference of two different groups of random variables. We can also build a confidence interval for that! We have some different cases regarding the variance but for this specific case (the variance are different and known), we have that:\n",
    "\n",
    "$$\\overline{X} - \\overline{Y}  \\sim N(\\mu_{X} - \\mu_{Y} , \\sqrt{\\frac{\\sigma_{X}^2}{n_X}+\\frac{\\sigma_{Y}^2}{n_Y}})$$\n",
    "\n",
    "Solve the problem with this information."
   ]
  },
  {
   "cell_type": "code",
   "execution_count": null,
   "metadata": {},
   "outputs": [],
   "source": [
    "import math\n",
    "\n",
    "#data \n",
    "\n",
    "n_X = 40 \n",
    "mean_X = 418 \n",
    "stddev_X = 26 \n",
    "\n",
    "n_Y = 50 \n",
    "mean_Y = 402 \n",
    "stddev_Y = 22 \n",
    "\n",
    "confidence_level = 0.94 \n",
    "\n",
    "#difference in mean\n",
    "\n",
    "point_estimate = mean_X - mean_Y \n",
    "\n",
    "#std error of difference in mean \n",
    "\n",
    "SE = math.sqrt ((stddev_X**2 / n_X) + (stddev_Y**2 / n_Y))\n",
    "\n",
    "#critical z-value for the confi level \n",
    "\n",
    "value = stats.norm.ppf ((1 + confidence_level) / 2)\n",
    "\n",
    "#margin of error\n",
    "\n",
    "margin_error = value * SE\n",
    "\n",
    "#confidence interval \n",
    "\n",
    "lower_bound = point_estimate - margin_error\n",
    "upper_bound = point_estimate + margin_error\n",
    "\n",
    "#results\n",
    "\n",
    "print(f\"Point Estimate: {point_estimate} hours\")\n",
    "\n",
    "print(f\"Standard Error: {SE}\")\n",
    "\n",
    "print(f\"Critical Value: {value}\")\n",
    "\n",
    "print(f\"Margin of error: {margin_error}\")\n",
    "\n",
    "print(f\"Confidence Interval: ({lower_bound}, {upper_bound}) hours\")"
   ]
  }
 ],
 "metadata": {
  "kernelspec": {
   "display_name": "Python 3",
   "language": "python",
   "name": "python3"
  },
  "language_info": {
   "codemirror_mode": {
    "name": "ipython",
    "version": 3
   },
   "file_extension": ".py",
   "mimetype": "text/x-python",
   "name": "python",
   "nbconvert_exporter": "python",
   "pygments_lexer": "ipython3",
   "version": "3.7.3"
  }
 },
 "nbformat": 4,
 "nbformat_minor": 2
}
