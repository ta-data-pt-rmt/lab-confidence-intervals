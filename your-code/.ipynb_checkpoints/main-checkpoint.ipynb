{
 "cells": [
  {
   "cell_type": "markdown",
   "metadata": {},
   "source": [
    "# Confidence Intervals"
   ]
  },
  {
   "cell_type": "code",
   "execution_count": 1,
   "metadata": {},
   "outputs": [],
   "source": [
    "import pandas as pd\n",
    "import numpy as np\n",
    "import scipy.stats as st"
   ]
  },
  {
   "cell_type": "markdown",
   "metadata": {},
   "source": [
    "## Challenge 1\n",
    "We want to estimate the average size of the men of a country with a confidence level of 80%. Assuming that the standard deviation of the sizes in the population is 4, get the confidence interval with a sample of men selected randomly, whose heights are:\n",
    "\n",
    "````\n",
    "heights = [167, 167, 168, 168, 168, 169, 171, 172, 173, 175, 175, 175, 177, 182, 195]\n",
    "````\n",
    "\n",
    "**Hint**: function `stats.norm.interval` from `scipy` can help you get through this exercise. "
   ]
  },
  {
   "cell_type": "code",
   "execution_count": 4,
   "metadata": {},
   "outputs": [],
   "source": [
    "#Let's create our array variable\n",
    "heights = np.array([167, 167, 168, 168, 168, 169, 171, 172, 173, 175, 175, 175, 177, 182, 195])"
   ]
  },
  {
   "cell_type": "code",
   "execution_count": 12,
   "metadata": {},
   "outputs": [
    {
     "data": {
      "text/plain": [
       "7.107429602574728"
      ]
     },
     "execution_count": 12,
     "metadata": {},
     "output_type": "execute_result"
    }
   ],
   "source": [
    "#Calculate the mean and the standard deviation\n",
    "mean = np.mean(heights)\n",
    "std = np.std(heights)\n",
    "std"
   ]
  },
  {
   "cell_type": "code",
   "execution_count": 7,
   "metadata": {},
   "outputs": [
    {
     "data": {
      "text/plain": [
       "(168.91239789957783, 178.0209354337555)"
      ]
     },
     "execution_count": 7,
     "metadata": {},
     "output_type": "execute_result"
    }
   ],
   "source": [
    "st.norm.interval(0.8,loc=mean,scale=std/np.sqrt(4))"
   ]
  },
  {
   "cell_type": "code",
   "execution_count": 8,
   "metadata": {},
   "outputs": [
    {
     "data": {
      "text/plain": [
       "'The average size of men is between 168.9cm and 178.1cm'"
      ]
     },
     "execution_count": 8,
     "metadata": {},
     "output_type": "execute_result"
    }
   ],
   "source": [
    "\"\"\"The average size of men is between 168.9cm and 178.1cm\"\"\""
   ]
  },
  {
   "cell_type": "markdown",
   "metadata": {},
   "source": [
    "## Challenge 2 \n",
    "In a sample of 105 shops selected randomly from an area, we note that 27 of them have had losses in this month. Get an interval for the proportion of businesses in the area with losses to a confidence level of 80% and a confidence level of 90%.\n",
    "\n",
    "**Hint**: function `stats.norm.interval` from `scipy` can help you get through this exercise. "
   ]
  },
  {
   "cell_type": "code",
   "execution_count": 9,
   "metadata": {},
   "outputs": [
    {
     "name": "stdout",
     "output_type": "stream",
     "text": [
      "80% Confidence Interval: (0.20248138545542083, 0.3118043288302934)\n",
      "90% Confidence Interval: (0.1869856177645281, 0.3273000965211861)\n"
     ]
    }
   ],
   "source": [
    "sample_size = 105\n",
    "shops_with_losses = 27\n",
    "\n",
    "#Loss proportion\n",
    "p = shops_with_losses / sample_size\n",
    "\n",
    "#Standard error\n",
    "se = np.sqrt((p * (1 - p)) / sample_size)\n",
    "\n",
    "#Confidence intervals\n",
    "interval_80 = st.norm.interval(0.8, loc=p, scale=se)\n",
    "interval_90 = st.norm.interval(0.9, loc=p, scale=se)\n",
    "\n",
    "print(f\"80% Confidence Interval: {interval_80}\")\n",
    "print(f\"90% Confidence Interval: {interval_90}\")"
   ]
  },
  {
   "cell_type": "code",
   "execution_count": null,
   "metadata": {},
   "outputs": [],
   "source": [
    "\"\"\"'With a 80% confidence interval we can state that between 20% and 31% of shops have losses\n",
    "With a 90% confidence interval we can state that between 18% and 33% of shops have losses\"\"\"\n"
   ]
  },
  {
   "cell_type": "markdown",
   "metadata": {},
   "source": [
    "## Bonus Challenge\n",
    "The error level or sampling error for the first challenge is given by the following expression:\n",
    "$$Error = z_{\\frac{\\alpha}{2}}\\frac{\\sigma}{\\sqrt n}$$\n",
    "Where z represents the value for N(0,1)\n",
    "\n",
    "\n",
    "Suppose that with the previous data of challenge 1, and with a confidence level of\n",
    "99% (that is, almost certainly) we want to estimate the average population size, so that the error level committed is not greater than half a centimeter.\n",
    "\n",
    "#### 1.- Determine what size the selected sample of men should be."
   ]
  },
  {
   "cell_type": "code",
   "execution_count": 14,
   "metadata": {},
   "outputs": [
    {
     "name": "stdout",
     "output_type": "stream",
     "text": [
      "Required Sample Size (n): 1338\n"
     ]
    }
   ],
   "source": [
    "#We can solve n to calculate the population size \n",
    "z = st.norm.ppf((0.99 + 1) / 2)  # z-score for 99% confidence level\n",
    "sigma = 7.10  # population standard deviation\n",
    "error = 0.5  #margin of error\n",
    "\n",
    "#Calculate sample size\n",
    "n = ((z * sigma) / error)**2\n",
    "\n",
    "print(\"Required Sample Size (n):\", round(n))"
   ]
  },
  {
   "cell_type": "markdown",
   "metadata": {},
   "source": [
    "#### 2.- For the second challenge, we have the following error:\n",
    "$$ Error = z_{\\frac{\\alpha}{2}}\\sqrt{\\frac{p\\times q}{n}} $$\n",
    "#### Determine the sample size required to not exceed an error of 1% with a confidence of 80%."
   ]
  },
  {
   "cell_type": "code",
   "execution_count": 15,
   "metadata": {},
   "outputs": [
    {
     "name": "stdout",
     "output_type": "stream",
     "text": [
      "Required Sample Size (n): 3137\n"
     ]
    }
   ],
   "source": [
    "#Standard error for that case\n",
    "p=27/105\n",
    "se = np.sqrt((p * (1 - p)) / 105)\n",
    "\n",
    "# Calculate standard deviation\n",
    "standard_deviation = se * np.sqrt(105)\n",
    "\n",
    "\n",
    "z = st.norm.ppf((0.8 + 1) / 2)  # z-score for 80% confidence level\n",
    "sigma = standard_deviation # population standard deviation\n",
    "error = 0.01  #margin of error\n",
    "\n",
    "#Calculate sample size\n",
    "n = ((z * sigma) / error)**2\n",
    "\n",
    "print(\"Required Sample Size (n):\", round(n))"
   ]
  },
  {
   "cell_type": "code",
   "execution_count": null,
   "metadata": {},
   "outputs": [],
   "source": [
    "\"\"\"Lots of data\"\"\""
   ]
  },
  {
   "cell_type": "markdown",
   "metadata": {},
   "source": [
    "## Bonus Challenge\n",
    "\n",
    "Let's consider the following problem:\n",
    "\n",
    "Build a confidence interval of 94% for the real difference between the durations of two brands of spotlights, if a sample of 40 spotlights taken randomly from the first mark gave an average duration of 418 hours, and a sample of 50 bulbs of another brand gave a duration average of 402 hours. The standard deviations of the two\n",
    "populations are 26 hours and 22 hours, respectively.\n",
    "\n",
    "Sometimes, we will be interested in the difference of two different groups of random variables. We can also build a confidence interval for that! We have some different cases regarding the variance but for this specific case (the variance are different and known), we have that:\n",
    "\n",
    "$$\\overline{X} - \\overline{Y}  \\sim N(\\mu_{X} - \\mu_{Y} , \\sqrt{\\frac{\\sigma_{X}^2}{n_X}+\\frac{\\sigma_{Y}^2}{n_Y}})$$\n",
    "\n",
    "Solve the problem with this information."
   ]
  },
  {
   "cell_type": "code",
   "execution_count": 16,
   "metadata": {},
   "outputs": [],
   "source": [
    "#Like in school, let's define the variables of the ecuation\n",
    "mean_X = 418\n",
    "mean_Y = 402\n",
    "std_X = 26\n",
    "std_Y = 22\n",
    "sample_X = 40\n",
    "sample_Y = 50\n",
    "confidence_level = 0.94"
   ]
  },
  {
   "cell_type": "code",
   "execution_count": 18,
   "metadata": {},
   "outputs": [],
   "source": [
    "#Calculate critical value\n",
    "z2 = st.norm.ppf((1 + confidence_level) / 2)\n",
    "\n",
    "#Calculate the standard error of the difference\n",
    "std_error_diff = np.sqrt((std_X**2 / sample_X) + (std_Y**2 / sample_Y))\n",
    "\n"
   ]
  },
  {
   "cell_type": "code",
   "execution_count": 20,
   "metadata": {},
   "outputs": [
    {
     "name": "stdout",
     "output_type": "stream",
     "text": [
      "94% Confidence Interval for the Difference: (6, 26)\n"
     ]
    }
   ],
   "source": [
    "#Calculate margin of error\n",
    "margin_of_error = z2 * std_error_diff\n",
    "\n",
    "#Confidence interval\n",
    "confidence_interval = (round(mean_X - mean_Y - margin_of_error), round(mean_X - mean_Y + margin_of_error))\n",
    "\n",
    "print(f\"94% Confidence Interval for the Difference: {confidence_interval}\")"
   ]
  },
  {
   "cell_type": "code",
   "execution_count": null,
   "metadata": {},
   "outputs": [],
   "source": []
  }
 ],
 "metadata": {
  "kernelspec": {
   "display_name": "Python 3 (ipykernel)",
   "language": "python",
   "name": "python3"
  },
  "language_info": {
   "codemirror_mode": {
    "name": "ipython",
    "version": 3
   },
   "file_extension": ".py",
   "mimetype": "text/x-python",
   "name": "python",
   "nbconvert_exporter": "python",
   "pygments_lexer": "ipython3",
   "version": "3.11.4"
  }
 },
 "nbformat": 4,
 "nbformat_minor": 2
}
