{
 "cells": [
  {
   "cell_type": "markdown",
   "metadata": {},
   "source": [
    "# Confidence Intervals"
   ]
  },
  {
   "cell_type": "code",
   "execution_count": 65,
   "metadata": {},
   "outputs": [],
   "source": [
    "# Libraries\n",
    "import pandas as pd\n",
    "import numpy as np\n",
    "import scipy.stats as stats\n",
    "from scipy.stats import norm"
   ]
  },
  {
   "cell_type": "markdown",
   "metadata": {},
   "source": [
    "## Challenge 1\n",
    "We want to estimate the average size of the men of a country with a confidence level of 80%. Assuming that the standard deviation of the sizes in the population is 4, get the confidence interval with a sample of men selected randomly, whose heights are:\n",
    "\n",
    "````\n",
    "heights = [167, 167, 168, 168, 168, 169, 171, 172, 173, 175, 175, 175, 177, 182, 195]\n",
    "````\n",
    "\n",
    "**Hint**: function `stats.norm.interval` from `scipy` can help you get through this exercise. "
   ]
  },
  {
   "cell_type": "code",
   "execution_count": 66,
   "metadata": {},
   "outputs": [
    {
     "data": {
      "text/plain": [
       "(172.14308590115726, 174.79024743217607)"
      ]
     },
     "execution_count": 66,
     "metadata": {},
     "output_type": "execute_result"
    }
   ],
   "source": [
    "# your code here\n",
    "heights = [167, 167, 168, 168, 168, 169, 171, 172, 173, 175, 175, 175, 177, 182, 195]\n",
    "sample = len(heights)\n",
    "mean_height = np.mean(heights)\n",
    "\n",
    "stats.norm.interval(0.8, loc = mean_height, scale = 4/sample**0.5 )\n"
   ]
  },
  {
   "cell_type": "markdown",
   "metadata": {},
   "source": [
    "## Challenge 2 \n",
    "In a sample of 105 shops selected randomly from an area, we note that 27 of them have had losses in this month. Get an interval for the proportion of businesses in the area with losses to a confidence level of 80% and a confidence level of 90%.\n",
    "\n",
    "**Hint**: function `stats.norm.interval` from `scipy` can help you get through this exercise. "
   ]
  },
  {
   "cell_type": "code",
   "execution_count": 67,
   "metadata": {},
   "outputs": [
    {
     "name": "stdout",
     "output_type": "stream",
     "text": [
      "With a condidence of 80%, the inferior interval is: 20.25 %\n",
      "With a condidence of 80%, the superior interval is: 31.18 %\n",
      "\n",
      "With a condidence of 90%, the inferior interval is: 18.7 %\n",
      "With a condidence of 90%, the superior interval is: 32.73 %\n",
      "\n"
     ]
    }
   ],
   "source": [
    "sample_pro = 27/105\n",
    "confidence_level_80 = 0.8\n",
    "sample = 105\n",
    "\n",
    "margin_error_80 = stats.norm.interval(confidence_level_80)[1] * np.sqrt((sample_pro * (1 - sample_pro)) / sample)\n",
    "margin_error_80\n",
    "\n",
    "interval_inf = sample_pro - margin_error_80\n",
    "interval_sup = sample_pro + margin_error_80\n",
    "\n",
    "interval_inf_rounded = round(interval_inf * 100, 2)\n",
    "interval_sup_rounded = round(interval_sup * 100, 2)\n",
    "\n",
    "print('With a condidence of 80%, the inferior interval is:', interval_inf_rounded, '%')\n",
    "print('With a condidence of 80%, the superior interval is:', interval_sup_rounded, '%')\n",
    "print()\n",
    "\n",
    "sample_pro = 27/105\n",
    "confidence_level_90 = 0.9\n",
    "sample = 105\n",
    "\n",
    "\n",
    "margin_error_90 = stats.norm.interval(confidence_level_90)[1] * np.sqrt((sample_pro * (1 - sample_pro)) / sample)\n",
    "margin_error_90\n",
    "\n",
    "interval_inf = sample_pro - margin_error_90\n",
    "interval_sup = sample_pro + margin_error_90\n",
    "\n",
    "interval_inf_rounded = round(interval_inf * 100, 2)\n",
    "interval_sup_rounded = round(interval_sup * 100, 2)\n",
    "\n",
    "print('With a condidence of 90%, the inferior interval is:', interval_inf_rounded, '%')\n",
    "print('With a condidence of 90%, the superior interval is:', interval_sup_rounded, '%')\n",
    "print()"
   ]
  },
  {
   "cell_type": "markdown",
   "metadata": {},
   "source": [
    "## Bonus Challenge\n",
    "The error level or sampling error for the first challenge is given by the following expression:\n",
    "$$Error = z_{\\frac{\\alpha}{2}}\\frac{\\sigma}{\\sqrt n}$$\n",
    "Where z represents the value for N(0,1)\n",
    "\n",
    "\n",
    "Suppose that with the previous data of challenge 1, and with a confidence level of\n",
    "99% (that is, almost certainly) we want to estimate the average population size, so that the error level committed is not greater than half a centimeter.\n",
    "\n",
    "#### 1.- Determine what size the selected sample of men should be."
   ]
  },
  {
   "cell_type": "code",
   "execution_count": 68,
   "metadata": {},
   "outputs": [
    {
     "name": "stdout",
     "output_type": "stream",
     "text": [
      "Required sample size: 425\n"
     ]
    }
   ],
   "source": [
    "# your code here\n",
    "\n",
    "heights = [167, 167, 168, 168, 168, 169, 171, 172, 173, 175, 175, 175, 177, 182, 195]\n",
    "\n",
    "#Given std of 4 and we want an error less than 0.5\n",
    "std = 4\n",
    "error = 0.5\n",
    "confidence_level = 0.99 \n",
    "z = norm.ppf((1 + confidence_level) / 2) #  z = 2.5758293035489004\n",
    "\n",
    "#FORMULA -> error = z * (std/np.sqrt(size))\n",
    "required_sample_size = ((std * z)/ error)**2\n",
    "print(\"Required sample size:\", round(required_sample_size))"
   ]
  },
  {
   "cell_type": "markdown",
   "metadata": {},
   "source": [
    "#### 2.- For the second challenge, we have the following error:\n",
    "$$ Error = z_{\\frac{\\alpha}{2}}\\sqrt{\\frac{p\\times q}{n}} $$\n",
    "#### Determine the sample size required to not exceed an error of 1% with a confidence of 80%."
   ]
  },
  {
   "cell_type": "code",
   "execution_count": 69,
   "metadata": {},
   "outputs": [
    {
     "name": "stdout",
     "output_type": "stream",
     "text": [
      "4106\n"
     ]
    }
   ],
   "source": [
    "# your code here\n",
    "\n",
    "#FORMULA ->  error = z * ((p*q)/n)**0.5\n",
    "#sample = n\n",
    "\n",
    "error = 0.01\n",
    "confidence_level = 0.80\n",
    "z = stats.norm.interval(confidence_level)[1] # 1.2815515655446004\n",
    "#p = 27/105 -> since the sample is very small, we won't use this value\n",
    "p = 0.5\n",
    "q = 1 - p\n",
    "\n",
    "sample  = (p * q * z**2) / error**2\n",
    "\n",
    "print(round(sample))"
   ]
  },
  {
   "cell_type": "markdown",
   "metadata": {},
   "source": [
    "## Bonus Challenge\n",
    "\n",
    "Let's consider the following problem:\n",
    "\n",
    "Build a confidence interval of 94% for the real difference between the durations of two brands of spotlights, if a sample of 40 spotlights taken randomly from the first mark gave an average duration of 418 hours, and a sample of 50 bulbs of another brand gave a duration average of 402 hours. The standard deviations of the two\n",
    "populations are 26 hours and 22 hours, respectively.\n",
    "\n",
    "Sometimes, we will be interested in the difference of two different groups of random variables. We can also build a confidence interval for that! We have some different cases regarding the variance but for this specific case (the variance are different and known), we have that:\n",
    "\n",
    "$$\\overline{X} - \\overline{Y}  \\sim N(\\mu_{X} - \\mu_{Y} , \\sqrt{\\frac{\\sigma_{X}^2}{n_X}+\\frac{\\sigma_{Y}^2}{n_Y}})$$\n",
    "\n",
    "Solve the problem with this information."
   ]
  },
  {
   "cell_type": "code",
   "execution_count": 55,
   "metadata": {},
   "outputs": [],
   "source": [
    "# your code here\n"
   ]
  }
 ],
 "metadata": {
  "kernelspec": {
   "display_name": "Python 3 (ipykernel)",
   "language": "python",
   "name": "python3"
  },
  "language_info": {
   "codemirror_mode": {
    "name": "ipython",
    "version": 3
   },
   "file_extension": ".py",
   "mimetype": "text/x-python",
   "name": "python",
   "nbconvert_exporter": "python",
   "pygments_lexer": "ipython3",
   "version": "3.11.1"
  }
 },
 "nbformat": 4,
 "nbformat_minor": 2
}
