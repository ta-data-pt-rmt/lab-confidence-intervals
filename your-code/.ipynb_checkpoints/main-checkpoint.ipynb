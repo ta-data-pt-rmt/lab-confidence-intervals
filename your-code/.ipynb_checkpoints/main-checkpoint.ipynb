{
 "cells": [
  {
   "cell_type": "markdown",
   "metadata": {},
   "source": [
    "# Confidence Intervals"
   ]
  },
  {
   "cell_type": "code",
   "execution_count": 2,
   "metadata": {},
   "outputs": [],
   "source": [
    "import pandas as pd\n",
    "import numpy as np\n",
    "from scipy import stats"
   ]
  },
  {
   "cell_type": "markdown",
   "metadata": {},
   "source": [
    "## Challenge 1\n",
    "We want to estimate the average size of the men of a country with a confidence level of 80%. Assuming that the standard deviation of the sizes in the population is 4, get the confidence interval with a sample of men selected randomly, whose heights are:\n",
    "\n",
    "````\n",
    "heights = [167, 167, 168, 168, 168, 169, 171, 172, 173, 175, 175, 175, 177, 182, 195]\n",
    "````\n",
    "\n",
    "**Hint**: function `stats.norm.interval` from `scipy` can help you get through this exercise. "
   ]
  },
  {
   "cell_type": "code",
   "execution_count": 3,
   "metadata": {},
   "outputs": [
    {
     "name": "stdout",
     "output_type": "stream",
     "text": [
      "Confidence Interval: (172.14308590115726, 174.79024743217607)\n"
     ]
    }
   ],
   "source": [
    "# Heights data\n",
    "heights = np.array([167, 167, 168, 168, 168, 169, 171, 172, 173, 175, 175, 175, 177, 182, 195])\n",
    "\n",
    "# Parameters\n",
    "confidence_level = 0.80\n",
    "standard_deviation = 4\n",
    "\n",
    "# Calculate the mean and standard error of the mean\n",
    "sample_mean = np.mean(heights)\n",
    "sample_size = len(heights)\n",
    "standard_error = standard_deviation / np.sqrt(sample_size)\n",
    "\n",
    "# Use the norm.interval function to calculate the confidence interval\n",
    "confidence_interval = stats.norm.interval(confidence_level, loc=sample_mean, scale=standard_error)\n",
    "\n",
    "print(\"Confidence Interval:\", confidence_interval)"
   ]
  },
  {
   "cell_type": "markdown",
   "metadata": {},
   "source": [
    "# Challenge 2 \n",
    "In a sample of 105 shops selected randomly from an area, we note that 27 of them have had losses in this month. Get an interval for the proportion of businesses in the area with losses to a confidence level of 80% and a confidence level of 90%.\n",
    "\n",
    "**Hint**: function `stats.norm.interval` from `scipy` can help you get through this exercise. "
   ]
  },
  {
   "cell_type": "code",
   "execution_count": 4,
   "metadata": {},
   "outputs": [
    {
     "name": "stdout",
     "output_type": "stream",
     "text": [
      "Confidence Interval (80%): (0.20248138545542083, 0.3118043288302934)\n",
      "Confidence Interval (90%): (0.1869856177645281, 0.3273000965211861)\n"
     ]
    }
   ],
   "source": [
    "# Sample information\n",
    "total_shops = 105\n",
    "shops_with_losses = 27\n",
    "\n",
    "# Proportion of shops with losses in the sample\n",
    "sample_proportion = shops_with_losses / total_shops\n",
    "\n",
    "# Confidence levels\n",
    "confidence_level_80 = 0.80\n",
    "confidence_level_90 = 0.90\n",
    "\n",
    "# Calculate the standard error of the proportion\n",
    "standard_error = np.sqrt((sample_proportion * (1 - sample_proportion)) / total_shops)\n",
    "\n",
    "# Calculate the confidence intervals using the norm.interval function\n",
    "confidence_interval_80 = stats.norm.interval(confidence_level_80, loc=sample_proportion, scale=standard_error)\n",
    "confidence_interval_90 = stats.norm.interval(confidence_level_90, loc=sample_proportion, scale=standard_error)\n",
    "\n",
    "print(\"Confidence Interval (80%):\", confidence_interval_80)\n",
    "print(\"Confidence Interval (90%):\", confidence_interval_90)"
   ]
  },
  {
   "cell_type": "markdown",
   "metadata": {},
   "source": [
    "## Bonus Challenge\n",
    "The error level or sampling error for the first challenge is given by the following expression:\n",
    "$$Error = z_{\\frac{\\alpha}{2}}\\frac{\\sigma}{\\sqrt n}$$\n",
    "Where z represents the value for N(0,1)\n",
    "\n",
    "\n",
    "Suppose that with the previous data of challenge 1, and with a confidence level of\n",
    "99% (that is, almost certainly) we want to estimate the average population size, so that the error level committed is not greater than half a centimeter.\n",
    "\n",
    "#### 1.- Determine what size the selected sample of men should be."
   ]
  },
  {
   "cell_type": "code",
   "execution_count": 5,
   "metadata": {},
   "outputs": [
    {
     "name": "stdout",
     "output_type": "stream",
     "text": [
      "Required Sample Size: 425\n"
     ]
    }
   ],
   "source": [
    "\n",
    "confidence_level = 0.99\n",
    "margin_of_error = 0.5  # in centimeters\n",
    "standard_deviation = 4  # assumed standard deviation\n",
    "\n",
    "# Find the z-score for the given confidence level\n",
    "z_score = stats.norm.ppf((1 + confidence_level) / 2)\n",
    "\n",
    "# Calculate the required sample size\n",
    "required_sample_size = ((z_score * standard_deviation) / margin_of_error) ** 2\n",
    "\n",
    "# Round up to the nearest integer, as sample size must be a whole number\n",
    "required_sample_size = np.ceil(required_sample_size)\n",
    "\n",
    "print(\"Required Sample Size:\", int(required_sample_size))"
   ]
  },
  {
   "cell_type": "markdown",
   "metadata": {},
   "source": [
    "#### 2.- For the second challenge, we have the following error:\n",
    "$$ Error = z_{\\frac{\\alpha}{2}}\\sqrt{\\frac{p\\times q}{n}} $$\n",
    "#### Determine the sample size required to not exceed an error of 1% with a confidence of 80%."
   ]
  },
  {
   "cell_type": "code",
   "execution_count": 6,
   "metadata": {},
   "outputs": [
    {
     "name": "stdout",
     "output_type": "stream",
     "text": [
      "Required Sample Size: 3138\n"
     ]
    }
   ],
   "source": [
    "# Given data from Challenge 2\n",
    "confidence_level = 0.80\n",
    "margin_of_error = 0.01  # 1% margin of error\n",
    "estimated_proportion = 27 / 105  # proportion of shops with losses\n",
    "\n",
    "# Find the z-score for the given confidence level\n",
    "z_score = stats.norm.ppf((1 + confidence_level) / 2)\n",
    "\n",
    "# Calculate the required sample size\n",
    "complement_proportion = 1 - estimated_proportion\n",
    "required_sample_size = ((z_score**2) * estimated_proportion * complement_proportion) / (margin_of_error**2)\n",
    "\n",
    "# Round up to the nearest integer, as sample size must be a whole number\n",
    "required_sample_size = np.ceil(required_sample_size)\n",
    "\n",
    "print(\"Required Sample Size:\", int(required_sample_size))"
   ]
  },
  {
   "cell_type": "markdown",
   "metadata": {},
   "source": [
    "## Bonus Challenge\n",
    "\n",
    "Let's consider the following problem:\n",
    "\n",
    "Build a confidence interval of 94% for the real difference between the durations of two brands of spotlights, if a sample of 40 spotlights taken randomly from the first mark gave an average duration of 418 hours, and a sample of 50 bulbs of another brand gave a duration average of 402 hours. The standard deviations of the two\n",
    "populations are 26 hours and 22 hours, respectively.\n",
    "\n",
    "Sometimes, we will be interested in the difference of two different groups of random variables. We can also build a confidence interval for that! We have some different cases regarding the variance but for this specific case (the variance are different and known), we have that:\n",
    "\n",
    "$$\\overline{X} - \\overline{Y}  \\sim N(\\mu_{X} - \\mu_{Y} , \\sqrt{\\frac{\\sigma_{X}^2}{n_X}+\\frac{\\sigma_{Y}^2}{n_Y}})$$\n",
    "\n",
    "Solve the problem with this information."
   ]
  },
  {
   "cell_type": "code",
   "execution_count": 8,
   "metadata": {},
   "outputs": [
    {
     "name": "stdout",
     "output_type": "stream",
     "text": [
      "Confidence Interval: (6.303419026585921, 25.69658097341408)\n"
     ]
    }
   ],
   "source": [
    "\n",
    "mean_X = 418\n",
    "mean_Y = 402\n",
    "std_dev_X = 26\n",
    "std_dev_Y = 22\n",
    "sample_size_X = 40\n",
    "sample_size_Y = 50\n",
    "confidence_level = 0.94\n",
    "\n",
    "# Calculate the confidence interval\n",
    "mean_difference = mean_X - mean_Y\n",
    "std_error = np.sqrt((std_dev_X**2 / sample_size_X) + (std_dev_Y**2 / sample_size_Y))\n",
    "\n",
    "# Find the critical value for a two-tailed test\n",
    "z_score = stats.norm.ppf((1 + confidence_level) / 2)\n",
    "\n",
    "# Calculate the confidence interval\n",
    "confidence_interval = (mean_difference - z_score * std_error, mean_difference + z_score * std_error)\n",
    "\n",
    "print(\"Confidence Interval:\", confidence_interval)"
   ]
  },
  {
   "cell_type": "code",
   "execution_count": null,
   "metadata": {},
   "outputs": [],
   "source": []
  }
 ],
 "metadata": {
  "kernelspec": {
   "display_name": "Python 3 (ipykernel)",
   "language": "python",
   "name": "python3"
  },
  "language_info": {
   "codemirror_mode": {
    "name": "ipython",
    "version": 3
   },
   "file_extension": ".py",
   "mimetype": "text/x-python",
   "name": "python",
   "nbconvert_exporter": "python",
   "pygments_lexer": "ipython3",
   "version": "3.11.4"
  }
 },
 "nbformat": 4,
 "nbformat_minor": 2
}
