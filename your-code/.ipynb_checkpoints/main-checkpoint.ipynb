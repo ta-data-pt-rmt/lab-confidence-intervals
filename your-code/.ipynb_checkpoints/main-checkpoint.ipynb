{
 "cells": [
  {
   "cell_type": "markdown",
   "metadata": {},
   "source": [
    "# Confidence Intervals"
   ]
  },
  {
   "cell_type": "code",
   "execution_count": 7,
   "metadata": {},
   "outputs": [],
   "source": [
    "import pandas as pd\n",
    "import numpy as np\n",
    "import scipy.stats as st\n"
   ]
  },
  {
   "cell_type": "markdown",
   "metadata": {},
   "source": [
    "## Challenge 1\n",
    "We want to estimate the average size of the men of a country with a confidence level of 80%. Assuming that the standard deviation of the sizes in the population is 4, get the confidence interval with a sample of men selected randomly, whose heights are:\n",
    "\n",
    "````\n",
    "heights = [167, 167, 168, 168, 168, 169, 171, 172, 173, 175, 175, 175, 177, 182, 195]\n",
    "````\n",
    "\n",
    "**Hint**: function `stats.norm.interval` from `scipy` can help you get through this exercise. "
   ]
  },
  {
   "cell_type": "code",
   "execution_count": 11,
   "metadata": {},
   "outputs": [
    {
     "name": "stdout",
     "output_type": "stream",
     "text": [
      "Confidence Interval: (172.14308590115726, 174.79024743217607)\n"
     ]
    }
   ],
   "source": [
    "\n",
    "heights = [167, 167, 168, 168, 168, 169, 171, 172, 173, 175, 175, 175, 177, 182, 195]\n",
    "population_std_dev = 4\n",
    "sample_mean = np.mean(heights)\n",
    "sample_size = len(heights)\n",
    "confidence_level = 0.8\n",
    "\n",
    "standard_error = population_std_dev / np.sqrt(sample_size)\n",
    "confidence_interval = stats.norm.interval(confidence_level, loc=sample_mean, scale=standard_error)\n",
    "\n",
    "print(\"Confidence Interval:\", confidence_interval)\n"
   ]
  },
  {
   "cell_type": "markdown",
   "metadata": {},
   "source": [
    "## Challenge 2 \n",
    "In a sample of 105 shops selected randomly from an area, we note that 27 of them have had losses in this month. Get an interval for the proportion of businesses in the area with losses to a confidence level of 80% and a confidence level of 90%.\n",
    "\n",
    "**Hint**: function `stats.norm.interval` from `scipy` can help you get through this exercise. "
   ]
  },
  {
   "cell_type": "code",
   "execution_count": 15,
   "metadata": {},
   "outputs": [
    {
     "name": "stdout",
     "output_type": "stream",
     "text": [
      "t-value for 80% confidence level: 1.2897448160236327\n",
      "t-value for 90% confidence level: 1.6596374367131441\n"
     ]
    }
   ],
   "source": [
    "sample_size = 105\n",
    "losses = 27\n",
    "\n",
    "df = 105 - 1  # degrees of freedom for a proportion\n",
    "\n",
    "t_value_80 = st.t.ppf(0.9, df)\n",
    "t_value_90 = st.t.ppf(0.95, df)\n",
    "\n",
    "print(\"t-value for 80% confidence level:\", t_value_80)\n",
    "print(\"t-value for 90% confidence level:\", t_value_90)\n"
   ]
  },
  {
   "cell_type": "markdown",
   "metadata": {},
   "source": [
    "## Bonus Challenge\n",
    "The error level or sampling error for the first challenge is given by the following expression:\n",
    "$$Error = z_{\\frac{\\alpha}{2}}\\frac{\\sigma}{\\sqrt n}$$\n",
    "Where z represents the value for N(0,1)\n",
    "\n",
    "\n",
    "Suppose that with the previous data of challenge 1, and with a confidence level of\n",
    "99% (that is, almost certainly) we want to estimate the average population size, so that the error level committed is not greater than half a centimeter.\n",
    "\n",
    "#### 1.- Determine what size the selected sample of men should be."
   ]
  },
  {
   "cell_type": "code",
   "execution_count": 16,
   "metadata": {},
   "outputs": [
    {
     "name": "stdout",
     "output_type": "stream",
     "text": [
      "Required Sample Size: 425\n"
     ]
    }
   ],
   "source": [
    "\n",
    "margin_of_error = 0.5  \n",
    "confidence_level = 0.99\n",
    "std_dev = 4  \n",
    "\n",
    "z_value = st.norm.ppf(1 - (1 - confidence_level) / 2)\n",
    "\n",
    "required_sample_size = ((z_value * std_dev) / margin_of_error) ** 2\n",
    "required_sample_size = round(required_sample_size)\n",
    "\n",
    "print(\"Required Sample Size:\", required_sample_size)\n"
   ]
  },
  {
   "cell_type": "markdown",
   "metadata": {},
   "source": [
    "#### 2.- For the second challenge, we have the following error:\n",
    "$$ Error = z_{\\frac{\\alpha}{2}}\\sqrt{\\frac{p\\times q}{n}} $$\n",
    "#### Determine the sample size required to not exceed an error of 1% with a confidence of 80%."
   ]
  },
  {
   "cell_type": "code",
   "execution_count": 18,
   "metadata": {},
   "outputs": [
    {
     "name": "stdout",
     "output_type": "stream",
     "text": [
      "Required Sample Size: 4106\n"
     ]
    }
   ],
   "source": [
    "\n",
    "margin_of_error = 0.01 \n",
    "confidence_level = 0.8\n",
    "std_dev = 0.5\n",
    "\n",
    "z_value = st.norm.ppf(1 - (1 - confidence_level) / 2)\n",
    "required_sample_size = ((z_value * std_dev) / margin_of_error) ** 2\n",
    "required_sample_size = round(required_sample_size)\n",
    "\n",
    "print(\"Required Sample Size:\", required_sample_size)\n"
   ]
  },
  {
   "cell_type": "markdown",
   "metadata": {},
   "source": [
    "## Bonus Challenge\n",
    "\n",
    "Let's consider the following problem:\n",
    "\n",
    "Build a confidence interval of 94% for the real difference between the durations of two brands of spotlights, if a sample of 40 spotlights taken randomly from the first mark gave an average duration of 418 hours, and a sample of 50 bulbs of another brand gave a duration average of 402 hours. The standard deviations of the two\n",
    "populations are 26 hours and 22 hours, respectively.\n",
    "\n",
    "Sometimes, we will be interested in the difference of two different groups of random variables. We can also build a confidence interval for that! We have some different cases regarding the variance but for this specific case (the variance are different and known), we have that:\n",
    "\n",
    "$$\\overline{X} - \\overline{Y}  \\sim N(\\mu_{X} - \\mu_{Y} , \\sqrt{\\frac{\\sigma_{X}^2}{n_X}+\\frac{\\sigma_{Y}^2}{n_Y}})$$\n",
    "\n",
    "Solve the problem with this information."
   ]
  },
  {
   "cell_type": "code",
   "execution_count": 19,
   "metadata": {},
   "outputs": [
    {
     "name": "stdout",
     "output_type": "stream",
     "text": [
      "Confidence Interval (94%): (6.303419026585921, 25.69658097341408)\n"
     ]
    }
   ],
   "source": [
    "\n",
    "mean_X = 418\n",
    "mean_Y = 402\n",
    "std_dev_X = 26\n",
    "std_dev_Y = 22\n",
    "sample_size_X = 40\n",
    "sample_size_Y = 50\n",
    "confidence_level = 0.94\n",
    "\n",
    "z_value = stats.norm.ppf((1 + confidence_level) / 2)\n",
    "margin_of_error = z_value * np.sqrt((std_dev_X**2 / sample_size_X) + (std_dev_Y**2 / sample_size_Y))\n",
    "\n",
    "confidence_interval_lower = (mean_X - mean_Y) - margin_of_error\n",
    "confidence_interval_upper = (mean_X - mean_Y) + margin_of_error\n",
    "\n",
    "print(\"Confidence Interval (94%):\", (confidence_interval_lower, confidence_interval_upper))\n"
   ]
  },
  {
   "cell_type": "code",
   "execution_count": null,
   "metadata": {},
   "outputs": [],
   "source": []
  }
 ],
 "metadata": {
  "kernelspec": {
   "display_name": "Python 3 (ipykernel)",
   "language": "python",
   "name": "python3"
  },
  "language_info": {
   "codemirror_mode": {
    "name": "ipython",
    "version": 3
   },
   "file_extension": ".py",
   "mimetype": "text/x-python",
   "name": "python",
   "nbconvert_exporter": "python",
   "pygments_lexer": "ipython3",
   "version": "3.9.13"
  }
 },
 "nbformat": 4,
 "nbformat_minor": 2
}
