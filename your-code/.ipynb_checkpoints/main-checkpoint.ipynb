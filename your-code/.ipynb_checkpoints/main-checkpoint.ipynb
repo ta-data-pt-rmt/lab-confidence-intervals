{
 "cells": [
  {
   "cell_type": "markdown",
   "metadata": {},
   "source": [
    "# Confidence Intervals"
   ]
  },
  {
   "cell_type": "code",
   "execution_count": 5,
   "metadata": {},
   "outputs": [],
   "source": [
    "# Libraries\n",
    "import pandas as pd\n",
    "import numpy as np\n",
    "from scipy import stats"
   ]
  },
  {
   "cell_type": "markdown",
   "metadata": {},
   "source": [
    "## Challenge 1\n",
    "We want to estimate the average size of the men of a country with a confidence level of 80%. Assuming that the standard deviation of the sizes in the population is 4, get the confidence interval with a sample of men selected randomly, whose heights are:\n",
    "\n",
    "````\n",
    "heights = [167, 167, 168, 168, 168, 169, 171, 172, 173, 175, 175, 175, 177, 182, 195]\n",
    "````\n",
    "\n",
    "**Hint**: function `stats.norm.interval` from `scipy` can help you get through this exercise. "
   ]
  },
  {
   "cell_type": "code",
   "execution_count": 10,
   "metadata": {},
   "outputs": [
    {
     "name": "stdout",
     "output_type": "stream",
     "text": [
      "Confidence interval assuming normal distribution and desv. of 4 with a confidence level of 80%: (173.20195051356478, 173.73138281976856)\n",
      "Average assuming normal distribution and desv. of 4 with a confidence level of 80%: 173.46666666666667\n"
     ]
    }
   ],
   "source": [
    "# your code here\n",
    "heights = [167, 167, 168, 168, 168, 169, 171, 172, 173, 175, 175, 175, 177, 182, 195]\n",
    "desv_tip = 4\n",
    "conf_level = 0.8 \n",
    "\n",
    "heights_mean = np.mean(heights)\n",
    "confidence_interval = stats.norm.interval(conf_level, loc=heights_mean, scale=conf_level / np.sqrt(len(heights))) ##tupla\n",
    "min_value, max_value = confidence_interval\n",
    "print('Confidence interval assuming normal distribution and desv. of 4 with a confidence level of 80%:',confidence_interval)\n",
    "average_size = (min_value + max_value)/2\n",
    "print('Average assuming normal distribution and desv. of 4 with a confidence level of 80%:',average_size)\n"
   ]
  },
  {
   "cell_type": "markdown",
   "metadata": {},
   "source": [
    "## Challenge 2 \n",
    "In a sample of 105 shops selected randomly from an area, we note that 27 of them have had losses in this month. Get an interval for the proportion of businesses in the area with losses to a confidence level of 80% and a confidence level of 90%.\n",
    "\n",
    "**Hint**: function `stats.norm.interval` from `scipy` can help you get through this exercise. "
   ]
  },
  {
   "cell_type": "code",
   "execution_count": 18,
   "metadata": {},
   "outputs": [
    {
     "name": "stdout",
     "output_type": "stream",
     "text": [
      "0.2571428571428571\n",
      "Confidence Interval (assuming normal distrib and 80% of confidence level): (-0.3029705520331971, 0.8172562663189114)\n",
      "Confidence Interval (assuming normal distrib and 80% of confidence level): (-0.461754920642522, 0.9760406349282362)\n"
     ]
    }
   ],
   "source": [
    "# your code here\n",
    "import math\n",
    "##105 empresas, 27 con perdidas en este mes \n",
    "\n",
    "##sacar intervalo de confianza de la proporcion de empresas en la zona con perdidas, con un nivel de confianza del 80% y luego con 90% \n",
    "losses_prop = 27/105\n",
    "print(losses_prop)\n",
    "\n",
    "z_80 = stats.norm.ppf(0.9)  # nivel de confianza del 80%\n",
    "z_90 = stats.norm.ppf(0.95)  # nivel de confianza del 90%\n",
    "std_error = math.sqrt((losses_prop  * (1 - losses_prop )))\n",
    "\n",
    "\n",
    "confidence_interval_80 = (\n",
    "    losses_prop - z_80 * std_error,\n",
    "    losses_prop + z_80 * std_error\n",
    ")\n",
    "   \n",
    "confidence_interval_90 = (\n",
    "    losses_prop - z_90 * std_error,\n",
    "    losses_prop + z_90 * std_error\n",
    ")\n",
    "                       \n",
    "print(f\"Confidence Interval (assuming normal distrib and 80% of confidence level): {confidence_interval_80}\")\n",
    "print(f\"Confidence Interval (assuming normal distrib and 80% of confidence level): {confidence_interval_90}\")"
   ]
  },
  {
   "cell_type": "markdown",
   "metadata": {},
   "source": [
    "## Bonus Challenge\n",
    "The error level or sampling error for the first challenge is given by the following expression:\n",
    "$$Error = z_{\\frac{\\alpha}{2}}\\frac{\\sigma}{\\sqrt n}$$\n",
    "Where z represents the value for N(0,1)\n",
    "\n",
    "\n",
    "Suppose that with the previous data of challenge 1, and with a confidence level of\n",
    "99% (that is, almost certainly) we want to estimate the average population size, so that the error level committed is not greater than half a centimeter.\n",
    "\n",
    "#### 1.- Determine what size the selected sample of men should be."
   ]
  },
  {
   "cell_type": "code",
   "execution_count": 22,
   "metadata": {},
   "outputs": [
    {
     "name": "stdout",
     "output_type": "stream",
     "text": [
      "sample size should be: 13\n"
     ]
    }
   ],
   "source": [
    "# your code here\n",
    "z_99 = stats.norm.ppf(0.95)\n",
    "desv_tip = 4\n",
    "error = 1\n",
    "n = ((z_99*desv_tip)/error)*2\n",
    "print(\"sample size should be:\", n.astype(int))"
   ]
  },
  {
   "cell_type": "markdown",
   "metadata": {},
   "source": [
    "#### 2.- For the second challenge, we have the following error:\n",
    "$$ Error = z_{\\frac{\\alpha}{2}}\\sqrt{\\frac{p\\times q}{n}} $$\n",
    "#### Determine the sample size required to not exceed an error of 1% with a confidence of 80%."
   ]
  },
  {
   "cell_type": "code",
   "execution_count": 23,
   "metadata": {},
   "outputs": [
    {
     "name": "stdout",
     "output_type": "stream",
     "text": [
      "sample size should be: 6\n"
     ]
    }
   ],
   "source": [
    "# your code here\n",
    "z_80 = stats.norm.ppf(0.8)\n",
    "desv_tip = 4\n",
    "error = 1\n",
    "n = ((z_80*desv_tip)/error)*2\n",
    "print(\"sample size should be:\", n.astype(int))"
   ]
  },
  {
   "cell_type": "markdown",
   "metadata": {},
   "source": [
    "## Bonus Challenge\n",
    "\n",
    "Let's consider the following problem:\n",
    "\n",
    "Build a confidence interval of 94% for the real difference between the durations of two brands of spotlights, if a sample of 40 spotlights taken randomly from the first mark gave an average duration of 418 hours, and a sample of 50 bulbs of another brand gave a duration average of 402 hours. The standard deviations of the two\n",
    "populations are 26 hours and 22 hours, respectively.\n",
    "\n",
    "Sometimes, we will be interested in the difference of two different groups of random variables. We can also build a confidence interval for that! We have some different cases regarding the variance but for this specific case (the variance are different and known), we have that:\n",
    "\n",
    "$$\\overline{X} - \\overline{Y}  \\sim N(\\mu_{X} - \\mu_{Y} , \\sqrt{\\frac{\\sigma_{X}^2}{n_X}+\\frac{\\sigma_{Y}^2}{n_Y}})$$\n",
    "\n",
    "Solve the problem with this information."
   ]
  },
  {
   "cell_type": "code",
   "execution_count": 25,
   "metadata": {},
   "outputs": [
    {
     "name": "stdout",
     "output_type": "stream",
     "text": [
      "(6.303419026585921, 25.69658097341408)\n"
     ]
    }
   ],
   "source": [
    "# your code here\n",
    "\n",
    "##la distrib es X_1-X_2 \n",
    "\n",
    "mean_1 = 418\n",
    "desv_tip_1 = 26    \n",
    "n_1 = 40      \n",
    "\n",
    "mean_2 = 402  \n",
    "desv_tip_2 = 22    \n",
    "n_2 = 50      \n",
    "\n",
    "conf_level = 0.94\n",
    "alpha = 1 - conf_level\n",
    "z_94 = stats.norm.ppf(1 - alpha / 2)\n",
    "standard_error = math.sqrt((desv_tip_1**2 / n_1) + (desv_tip_2**2 / n_2))\n",
    "\n",
    "\n",
    "confidence_interval = (\n",
    "    (mean_1 - mean_2) - z_94 * standard_error,\n",
    "    (mean_1 - mean_2) + z_94 * standard_error\n",
    ")\n",
    "\n",
    "print(confidence_interval)"
   ]
  }
 ],
 "metadata": {
  "kernelspec": {
   "display_name": "Python 3",
   "language": "python",
   "name": "python3"
  },
  "language_info": {
   "codemirror_mode": {
    "name": "ipython",
    "version": 3
   },
   "file_extension": ".py",
   "mimetype": "text/x-python",
   "name": "python",
   "nbconvert_exporter": "python",
   "pygments_lexer": "ipython3",
   "version": "3.7.6"
  }
 },
 "nbformat": 4,
 "nbformat_minor": 2
}
